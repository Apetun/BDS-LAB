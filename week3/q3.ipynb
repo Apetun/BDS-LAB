{
 "cells": [
  {
   "cell_type": "code",
   "execution_count": 2,
   "metadata": {},
   "outputs": [
    {
     "name": "stdout",
     "output_type": "stream",
     "text": [
      "+---+---+---+---+\n",
      "| TP| FN| FP| TN|\n",
      "+---+---+---+---+\n",
      "|  1|  0|  2|  3|\n",
      "+---+---+---+---+\n",
      "\n",
      "+------------------+------+--------+\n",
      "|         Precision|Recall|F1_Score|\n",
      "+------------------+------+--------+\n",
      "|0.3333333333333333|   1.0|     0.5|\n",
      "+------------------+------+--------+\n",
      "\n"
     ]
    }
   ],
   "source": [
    "from pyspark.sql import SparkSession\n",
    "from pyspark.sql import Row\n",
    "from pyspark.sql.functions import col, count, when, expr\n",
    "\n",
    "# Initialize Spark session\n",
    "spark = SparkSession.builder \\\n",
    "    .appName(\"EntityResolutionEvaluation\") \\\n",
    "    .getOrCreate()\n",
    "\n",
    "# Sample data: (true_label, predicted_label)\n",
    "data = [\n",
    "    Row(true_label=0, predicted_label=1),\n",
    "    Row(true_label=0, predicted_label=0),\n",
    "    Row(true_label=0, predicted_label=1),\n",
    "    Row(true_label=0, predicted_label=0),\n",
    "    Row(true_label=1, predicted_label=1),\n",
    "    Row(true_label=0, predicted_label=0)\n",
    "]\n",
    "\n",
    "# Create DataFrame\n",
    "df = spark.createDataFrame(data)\n",
    "\n",
    "# Calculate confusion matrix components\n",
    "conf_matrix = df.groupBy().agg(\n",
    "    count(when((col(\"true_label\") == 1) & (col(\"predicted_label\") == 1), 1)).alias(\"TP\"),\n",
    "    count(when((col(\"true_label\") == 1) & (col(\"predicted_label\") == 0), 1)).alias(\"FN\"),\n",
    "    count(when((col(\"true_label\") == 0) & (col(\"predicted_label\") == 1), 1)).alias(\"FP\"),\n",
    "    count(when((col(\"true_label\") == 0) & (col(\"predicted_label\") == 0), 1)).alias(\"TN\")\n",
    ")\n",
    "\n",
    "conf_matrix.show()\n",
    "\n",
    "# Compute precision, recall, and F1-score\n",
    "metrics = conf_matrix.select(\n",
    "    expr(\"TP / (TP + FP)\").alias(\"Precision\"),\n",
    "    expr(\"TP / (TP + FN)\").alias(\"Recall\"),\n",
    "    expr(\"2 * (Precision * Recall) / (Precision + Recall)\").alias(\"F1_Score\")\n",
    ")\n",
    "\n",
    "metrics.show()\n"
   ]
  },
  {
   "cell_type": "code",
   "execution_count": null,
   "metadata": {},
   "outputs": [],
   "source": []
  }
 ],
 "metadata": {
  "kernelspec": {
   "display_name": "Python 3 (ipykernel)",
   "language": "python",
   "name": "python3"
  },
  "language_info": {
   "codemirror_mode": {
    "name": "ipython",
    "version": 3
   },
   "file_extension": ".py",
   "mimetype": "text/x-python",
   "name": "python",
   "nbconvert_exporter": "python",
   "pygments_lexer": "ipython3",
   "version": "3.7.0"
  }
 },
 "nbformat": 4,
 "nbformat_minor": 2
}

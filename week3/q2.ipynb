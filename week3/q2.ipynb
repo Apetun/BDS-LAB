{
 "cells": [
  {
   "cell_type": "code",
   "execution_count": 9,
   "metadata": {},
   "outputs": [
    {
     "name": "stdout",
     "output_type": "stream",
     "text": [
      "+---+---+----------+\n",
      "|id1|id2|similarity|\n",
      "+---+---+----------+\n",
      "|  1|  1|       1.0|\n",
      "|  1|  2|0.42426407|\n",
      "|  1|  3|0.73029673|\n",
      "|  2|  1|0.42426407|\n",
      "|  2|  2|       1.0|\n",
      "|  2|  3| 0.7745967|\n",
      "|  3|  1|0.73029673|\n",
      "|  3|  2| 0.7745967|\n",
      "|  3|  3|       1.0|\n",
      "+---+---+----------+\n",
      "\n"
     ]
    }
   ],
   "source": [
    "from pyspark.sql import SparkSession\n",
    "from pyspark.sql import Row\n",
    "import pyspark.sql.functions as F\n",
    "from pyspark.sql.functions import col, udf\n",
    "from pyspark.sql.types import FloatType\n",
    "\n",
    "# Initialize Spark session\n",
    "spark = SparkSession.builder \\\n",
    "    .appName(\"SimilarityScoreCalculation\") \\\n",
    "    .getOrCreate()\n",
    "\n",
    "# Example data\n",
    "data = [\n",
    "    Row(id=1, features=[1.0, 0.0, 3.0]),\n",
    "    Row(id=2, features=[0.0, 2.0, 1.0]),\n",
    "    Row(id=3, features=[2.0, 2.0, 2.0])\n",
    "]\n",
    "\n",
    "df = spark.createDataFrame(data)\n",
    "\n",
    "# Define the cosine similarity function using Python lists\n",
    "def cosine_similarity(v1, v2):\n",
    "    numerator = sum(x * y for x, y in zip(v1, v2))\n",
    "    denominator = (sum(x ** 2 for x in v1) ** 0.5) * (sum(y ** 2 for y in v2) ** 0.5)\n",
    "    return numerator / denominator if denominator != 0 else 0.0\n",
    "\n",
    "# Register UDF\n",
    "cosine_similarity_udf = udf(cosine_similarity, FloatType())\n",
    "\n",
    "# Cross join the DataFrame to compare each record with every other record\n",
    "cross_df = df.alias(\"df1\").crossJoin(df.alias(\"df2\"))\n",
    "\n",
    "# Calculate the similarity score\n",
    "similarity_df = cross_df.withColumn(\n",
    "    \"similarity\",\n",
    "    cosine_similarity_udf(col(\"df1.features\"), col(\"df2.features\"))\n",
    ").select(\n",
    "    col(\"df1.id\").alias(\"id1\"),\n",
    "    col(\"df2.id\").alias(\"id2\"),\n",
    "    col(\"similarity\")\n",
    ")\n",
    "\n",
    "# Show results\n",
    "similarity_df.show()\n"
   ]
  },
  {
   "cell_type": "code",
   "execution_count": null,
   "metadata": {},
   "outputs": [],
   "source": []
  }
 ],
 "metadata": {
  "kernelspec": {
   "display_name": "Python 3 (ipykernel)",
   "language": "python",
   "name": "python3"
  },
  "language_info": {
   "codemirror_mode": {
    "name": "ipython",
    "version": 3
   },
   "file_extension": ".py",
   "mimetype": "text/x-python",
   "name": "python",
   "nbconvert_exporter": "python",
   "pygments_lexer": "ipython3",
   "version": "3.7.0"
  }
 },
 "nbformat": 4,
 "nbformat_minor": 2
}

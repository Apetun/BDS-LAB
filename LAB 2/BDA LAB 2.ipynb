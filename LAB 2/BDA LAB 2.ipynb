{
 "cells": [
  {
   "cell_type": "markdown",
   "metadata": {},
   "source": [
    "## BDA LAB 1 - Basic PySpark Programs"
   ]
  },
  {
   "cell_type": "markdown",
   "metadata": {},
   "source": [
    "## Starting a pyspark session"
   ]
  },
  {
   "cell_type": "code",
   "execution_count": 7,
   "metadata": {},
   "outputs": [],
   "source": [
    "import time\n",
    "from pyspark.sql import SparkSession\n",
    "spark = SparkSession.builder.appName(\"Lab1\").getOrCreate()"
   ]
  },
  {
   "cell_type": "markdown",
   "metadata": {},
   "source": [
    "### Q1 : Write a PySpark program to square set of integers."
   ]
  },
  {
   "cell_type": "code",
   "execution_count": 9,
   "metadata": {},
   "outputs": [
    {
     "name": "stdout",
     "output_type": "stream",
     "text": [
      "Answer:[1, 4, 9, 16, 25],0.14625656999942294\n",
      "Answer:[1, 4, 9, 16, 25],5.4803000239189714e-05\n"
     ]
    }
   ],
   "source": [
    "arr = [1, 2, 3, 4, 5]\n",
    "rdd = spark.sparkContext.parallelize(arr)\n",
    "\n",
    "start_time = time.perf_counter()\n",
    "sum_of_squares = rdd.map(lambda x: x * x)\n",
    "sum_of_squares = sum_of_squares.collect()\n",
    "end_time = time.perf_counter()\n",
    "print(f\"Answer:{sum_of_squares},{end_time-start_time}\")\n",
    "\n",
    "start_time = time.perf_counter()\n",
    "sum_of_squares = list(map(lambda x: x * x, arr))\n",
    "end_time = time.perf_counter()\n",
    "print(f\"Answer:{sum_of_squares},{end_time-start_time}\")\n",
    "\n",
    "df = spark.createDataFrame([(x,) for x in arr], [\"value\"])\n",
    "start_time = time.perf_counter()\n",
    "df_squared = df.withColumn(\"square\", pow(col(\"value\"), 2))\n",
    "sum_of_squares_df = df_squared.select(\"square\").rdd.flatMap(lambda x: x).collect()\n",
    "end_time = time.perf_counter()\n",
    "print(f\"Answer:{sum_of_squares},{end_time-start_time}\")"
   ]
  },
  {
   "cell_type": "markdown",
   "metadata": {},
   "source": [
    "### Q2 : Write a PySpark program to find the maximum of given set of numbers."
   ]
  },
  {
   "cell_type": "code",
   "execution_count": 3,
   "metadata": {
    "scrolled": true
   },
   "outputs": [
    {
     "name": "stdout",
     "output_type": "stream",
     "text": [
      "The maximum value is: 5\n"
     ]
    }
   ],
   "source": [
    "max_value = rdd.max()\n",
    "print(f\"The maximum value is: {max_value}\")"
   ]
  },
  {
   "cell_type": "markdown",
   "metadata": {},
   "source": [
    "### Q3 : Write a PySpark program to find average of N numbers."
   ]
  },
  {
   "cell_type": "code",
   "execution_count": 4,
   "metadata": {},
   "outputs": [
    {
     "name": "stdout",
     "output_type": "stream",
     "text": [
      "The average value is: 3.0\n"
     ]
    }
   ],
   "source": [
    "total_sum = rdd.reduce(lambda x, y: x + y)\n",
    "count = rdd.count()\n",
    "average = total_sum / count\n",
    "print(f\"The average value is: {average}\")"
   ]
  },
  {
   "cell_type": "markdown",
   "metadata": {},
   "source": [
    "### Q4 : Demonstrate how to read a CSV file into a PySpark DataFrame"
   ]
  },
  {
   "cell_type": "code",
   "execution_count": 5,
   "metadata": {},
   "outputs": [],
   "source": [
    "csv_file_path = \"./data/data.csv\"\n",
    "df = spark.read.csv(csv_file_path, header=True, inferSchema=True)"
   ]
  },
  {
   "cell_type": "markdown",
   "metadata": {},
   "source": [
    "### Q5 : Use PySpark commands to display the first few rows and schema of a DataFrame."
   ]
  },
  {
   "cell_type": "code",
   "execution_count": 6,
   "metadata": {},
   "outputs": [
    {
     "name": "stdout",
     "output_type": "stream",
     "text": [
      "+---------+---+-----------+\n",
      "|     Name|Age|       City|\n",
      "+---------+---+-----------+\n",
      "|    Alice| 30|   New York|\n",
      "|      Bob| 25|Los Angeles|\n",
      "|Catherine| 35|    Chicago|\n",
      "|    David| 40|    Houston|\n",
      "+---------+---+-----------+\n",
      "\n",
      "root\n",
      " |-- Name: string (nullable = true)\n",
      " |-- Age: integer (nullable = true)\n",
      " |-- City: string (nullable = true)\n",
      "\n"
     ]
    }
   ],
   "source": [
    "df.show()\n",
    "df.printSchema()"
   ]
  },
  {
   "cell_type": "markdown",
   "metadata": {},
   "source": [
    "### Q6 : Calculate basic summary statistics for a specific column in the DataFrame."
   ]
  },
  {
   "cell_type": "code",
   "execution_count": 7,
   "metadata": {},
   "outputs": [
    {
     "name": "stdout",
     "output_type": "stream",
     "text": [
      "+-------+-----+-----------------+--------+\n",
      "|summary| Name|              Age|    City|\n",
      "+-------+-----+-----------------+--------+\n",
      "|  count|    4|                4|       4|\n",
      "|   mean| null|             32.5|    null|\n",
      "| stddev| null|6.454972243679028|    null|\n",
      "|    min|Alice|               25| Chicago|\n",
      "|    max|David|               40|New York|\n",
      "+-------+-----+-----------------+--------+\n",
      "\n"
     ]
    }
   ],
   "source": [
    "df.describe().show()"
   ]
  }
 ],
 "metadata": {
  "kernelspec": {
   "display_name": "Python 3 (ipykernel)",
   "language": "python",
   "name": "python3"
  },
  "language_info": {
   "codemirror_mode": {
    "name": "ipython",
    "version": 3
   },
   "file_extension": ".py",
   "mimetype": "text/x-python",
   "name": "python",
   "nbconvert_exporter": "python",
   "pygments_lexer": "ipython3",
   "version": "3.7.0"
  }
 },
 "nbformat": 4,
 "nbformat_minor": 2
}

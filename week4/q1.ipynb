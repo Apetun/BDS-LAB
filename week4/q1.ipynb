{
 "cells": [
  {
   "cell_type": "code",
   "execution_count": 8,
   "metadata": {},
   "outputs": [
    {
     "name": "stderr",
     "output_type": "stream",
     "text": [
      "/home/lplab/anaconda3/lib/python3.7/site-packages/pyspark/context.py:317: FutureWarning: Python 3.7 support is deprecated in Spark 3.4.\n",
      "  warnings.warn(\"Python 3.7 support is deprecated in Spark 3.4.\", FutureWarning)\n"
     ]
    },
    {
     "name": "stdout",
     "output_type": "stream",
     "text": [
      "Root-Mean-Square Error = 1.8555\n",
      "+------+------+------+----------+\n",
      "|  user|  item|rating|prediction|\n",
      "+------+------+------+----------+\n",
      "|1959.0|  78.0|   5.0|  2.115138|\n",
      "| 540.0|   7.0|   5.0|  4.985047|\n",
      "|2393.0|  21.0|   5.0| 4.8314753|\n",
      "|5670.0|   7.0|   5.0|  1.937971|\n",
      "|1005.0|   7.0|   1.0| 0.9697579|\n",
      "| 362.0|  37.0|   5.0| 4.1891227|\n",
      "|3441.0|1117.0|   2.0| 2.0044537|\n",
      "| 126.0|  63.0|   4.0|  4.014833|\n",
      "| 830.0|   7.0|   4.0| 2.0984683|\n",
      "| 183.0|  63.0|   5.0| 3.3185565|\n",
      "|3445.0| 961.0|   1.0|  2.087726|\n",
      "|4208.0| 303.0|   5.0|    4.9335|\n",
      "|4958.0|  21.0|   5.0| 4.8314753|\n",
      "|1415.0|  83.0|   4.0| 1.8284632|\n",
      "|1415.0|  85.0|   3.0| 2.2572324|\n",
      "| 412.0|   7.0|   5.0| 3.9537559|\n",
      "|1030.0|  79.0|   3.0| 1.2394274|\n",
      "|2871.0|  21.0|   5.0| 4.8314753|\n",
      "|  26.0|  78.0|   4.0|  3.913481|\n",
      "|  27.0|  63.0|   5.0| 3.9538033|\n",
      "+------+------+------+----------+\n",
      "only showing top 20 rows\n",
      "\n"
     ]
    }
   ],
   "source": [
    "from pyspark.sql import SparkSession\n",
    "from pyspark.ml.recommendation import ALS\n",
    "from pyspark.ml.evaluation import RegressionEvaluator\n",
    "from pyspark.ml.feature import StringIndexer\n",
    "from pyspark.sql.functions import col\n",
    "\n",
    "# Initialize Spark session\n",
    "spark = SparkSession.builder \\\n",
    "    .appName(\"RecommendationSystem\") \\\n",
    "    .getOrCreate()\n",
    "\n",
    "# Load the dataset into a DataFrame\n",
    "file_path = \"movies1.json\"\n",
    "df = spark.read.json(file_path)\n",
    "\n",
    "# Prepare the data\n",
    "data = df.select(col(\"user_id\").alias(\"user\"), \n",
    "                 col(\"product_id\").alias(\"item\"), \n",
    "                 col(\"score\").alias(\"rating\"))\n",
    "\n",
    "# Index user and item columns\n",
    "user_indexer = StringIndexer(inputCol=\"user\", outputCol=\"userIndex\")\n",
    "item_indexer = StringIndexer(inputCol=\"item\", outputCol=\"itemIndex\")\n",
    "\n",
    "data_indexed = user_indexer.fit(data).transform(data)\n",
    "data_indexed = item_indexer.fit(data_indexed).transform(data_indexed)\n",
    "\n",
    "# Select only the indexed columns\n",
    "data_indexed = data_indexed.select(col(\"userIndex\").alias(\"user\"), \n",
    "                                   col(\"itemIndex\").alias(\"item\"), \n",
    "                                   col(\"rating\"))\n",
    "\n",
    "# Split the data into training and test sets\n",
    "(training_data, test_data) = data_indexed.randomSplit([0.8, 0.2])\n",
    "\n",
    "# Initialize ALS model\n",
    "als = ALS(\n",
    "    maxIter=10, \n",
    "    regParam=0.1, \n",
    "    rank=10, \n",
    "    userCol=\"user\", \n",
    "    itemCol=\"item\", \n",
    "    ratingCol=\"rating\", \n",
    "    coldStartStrategy=\"drop\"\n",
    ")\n",
    "\n",
    "# Fit the model\n",
    "model = als.fit(training_data)\n",
    "\n",
    "# Make predictions\n",
    "predictions = model.transform(test_data)\n",
    "\n",
    "# Evaluate the model\n",
    "evaluator = RegressionEvaluator(\n",
    "    metricName=\"rmse\", \n",
    "    labelCol=\"rating\", \n",
    "    predictionCol=\"prediction\"\n",
    ")\n",
    "rmse = evaluator.evaluate(predictions)\n",
    "print(f\"Root-Mean-Square Error = {rmse:.4f}\")\n",
    "predictions.show()\n",
    "# Stop the Spark session\n",
    "spark.stop()\n"
   ]
  },
  {
   "cell_type": "code",
   "execution_count": null,
   "metadata": {},
   "outputs": [],
   "source": []
  }
 ],
 "metadata": {
  "kernelspec": {
   "display_name": "Python 3 (ipykernel)",
   "language": "python",
   "name": "python3"
  },
  "language_info": {
   "codemirror_mode": {
    "name": "ipython",
    "version": 3
   },
   "file_extension": ".py",
   "mimetype": "text/x-python",
   "name": "python",
   "nbconvert_exporter": "python",
   "pygments_lexer": "ipython3",
   "version": "3.7.0"
  }
 },
 "nbformat": 4,
 "nbformat_minor": 2
}
